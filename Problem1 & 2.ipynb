{
 "cells": [
  {
   "cell_type": "markdown",
   "metadata": {},
   "source": [
    "### Problem 1"
   ]
  },
  {
   "cell_type": "markdown",
   "metadata": {},
   "source": [
    "_**Using bruteforce method and dictionary method**_"
   ]
  },
  {
   "cell_type": "code",
   "execution_count": 1,
   "metadata": {},
   "outputs": [],
   "source": [
    "import time"
   ]
  },
  {
   "cell_type": "code",
   "execution_count": 2,
   "metadata": {},
   "outputs": [],
   "source": [
    "def find_number(number):\n",
    "    \n",
    "    if number % 2==0:\n",
    "        number = number/2\n",
    "    else:\n",
    "        number = (number*3)+ 1\n",
    "    #print(number)\n",
    "    return number\n",
    "\n",
    "\n",
    "\n",
    "def main_fn(endnum):\n",
    "    \n",
    "    start= time.time()\n",
    "    longest_chain = 0\n",
    "    largest_number = 0\n",
    "    startnum = 1\n",
    "    endnum = endnum\n",
    "    \n",
    "    while(startnum < endnum):\n",
    "        current_number = startnum\n",
    "        current_chain = 1\n",
    "        \n",
    "        while(current_number !=1):\n",
    "            current_number= find_number(current_number)\n",
    "            current_chain += 1\n",
    "           \n",
    "        if current_chain > longest_chain:\n",
    "            longest_chain = current_chain\n",
    "            largest_number=startnum\n",
    "        startnum += 1\n",
    "        \n",
    "    # print(largest_number,longest_chain)\n",
    "    print(time.time()-start)  \n",
    "    return (largest_number,longest_chain)\n",
    "\n",
    "    "
   ]
  },
  {
   "cell_type": "code",
   "execution_count": 3,
   "metadata": {},
   "outputs": [
    {
     "name": "stdout",
     "output_type": "stream",
     "text": [
      "Enter the number:1000000\n",
      "83.93815541267395\n",
      "The largest number 837799 with length 525 of input number 1000000\n"
     ]
    }
   ],
   "source": [
    "# take input from user and print the result\n",
    "try:\n",
    "    num = int(input(\"Enter the number:\"))\n",
    "    largest_number,longest_chain = main_fn(num)\n",
    "    print(f'\\nThe largest number {largest_number} with length {longest_chain} of input number {num}')\n",
    "except Exception as e:\n",
    "    print(e)\n",
    "        "
   ]
  },
  {
   "cell_type": "code",
   "execution_count": 4,
   "metadata": {},
   "outputs": [],
   "source": [
    "# using dictionary to store previous results gives faster results"
   ]
  },
  {
   "cell_type": "code",
   "execution_count": 5,
   "metadata": {},
   "outputs": [],
   "source": [
    "def checknum(endnum):\n",
    "    start = time.time()\n",
    "\n",
    "    start_dict = {n: 0 for n in range(1,endnum)}\n",
    "\n",
    "    start_dict[1],start_dict[2]= 1,2\n",
    "\n",
    "\n",
    "    for n in range(3,endnum):\n",
    "\n",
    "        counter = 0\n",
    "        current_number = n\n",
    "\n",
    "        while n > 1:\n",
    "\n",
    "            if n < current_number:\n",
    "                start_dict[current_number] = start_dict[n] + counter\n",
    "                break\n",
    "\n",
    "            if n%2 == 0:\n",
    "                n = n/2\n",
    "                counter += 1\n",
    "            else:\n",
    "                n = 3*n+1\n",
    "                counter += 1\n",
    "    print(time.time()-start)     \n",
    "    return start_dict"
   ]
  },
  {
   "cell_type": "code",
   "execution_count": 6,
   "metadata": {},
   "outputs": [
    {
     "name": "stdout",
     "output_type": "stream",
     "text": [
      "Enter the number:1000000\n",
      "3.3670475482940674\n",
      "\n",
      "The largest number 837799\n"
     ]
    }
   ],
   "source": [
    "try:\n",
    "    num = int(input(\"Enter the number:\"))\n",
    "    start_dict = checknum(num)\n",
    "#print(start_dict)\n",
    "    \n",
    "    largest_number=max(start_dict,key=start_dict.get)\n",
    "    print(f'\\nThe largest number {largest_number}')\n",
    "except Exception as e:\n",
    "    print(e)"
   ]
  },
  {
   "cell_type": "markdown",
   "metadata": {},
   "source": [
    "### Problem 2"
   ]
  },
  {
   "cell_type": "code",
   "execution_count": 7,
   "metadata": {},
   "outputs": [
    {
     "name": "stdout",
     "output_type": "stream",
     "text": [
      "Enter # of leaders:100\n",
      "1800\n"
     ]
    }
   ],
   "source": [
    "import itertools\n",
    "\n",
    "def combination_stamp(leaders):\n",
    "    stamp_value = [1, 2, 5, 10, 50, 100]\n",
    "    stamp_shape = ['Square','Rectangele','Triangle']\n",
    "    stamp_face = list(range(leaders))\n",
    "    stamp_combinations=list(itertools.product(stamp_value,stamp_shape,stamp_face))\n",
    "    return stamp_combinations\n",
    "\n",
    "try:\n",
    "    leaders = int(input('Enter # of leaders:'))\n",
    "    stamp_combo=combination_stamp(leaders)\n",
    "    print(len(stamp_combo))\n",
    "except Exception as e:\n",
    "    print(e)\n",
    "        "
   ]
  },
  {
   "cell_type": "code",
   "execution_count": null,
   "metadata": {},
   "outputs": [],
   "source": []
  }
 ],
 "metadata": {
  "kernelspec": {
   "display_name": "webdev",
   "language": "python",
   "name": "webdev"
  },
  "language_info": {
   "codemirror_mode": {
    "name": "ipython",
    "version": 3
   },
   "file_extension": ".py",
   "mimetype": "text/x-python",
   "name": "python",
   "nbconvert_exporter": "python",
   "pygments_lexer": "ipython3",
   "version": "3.6.11"
  }
 },
 "nbformat": 4,
 "nbformat_minor": 4
}
